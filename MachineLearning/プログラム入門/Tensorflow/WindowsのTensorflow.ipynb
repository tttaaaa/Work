{
 "cells": [
  {
   "cell_type": "markdown",
   "metadata": {},
   "source": [
    "## Tensorflowの環境構築(Windows)\n",
    "\n",
    "WindowsでTensorflowの環境を構築する。\n",
    "作業ログと作業中に感じた疑問を記載する.\n",
    "\n",
    "### 環境\n",
    "- Windows 10 64bit(GPUなし)\n",
    "- Anaconda 4.2.0\n",
    "- Python 3.5\n"
   ]
  },
  {
   "cell_type": "markdown",
   "metadata": {},
   "source": [
    "### Anacondaのインストール\n",
    "ここでは説明を省略する.詳細は以下を参考にされたい.\n",
    "http://qiita.com/y__sama/items/5b62d31cb7e6ed50f02c\n",
    "\n",
    "### Tensorflow用にAnacondaの環境を作成\n",
    "\n",
    "1. 「Anaconda Prompt」を起動する.\n",
    "1. tensorflow用のAnaconda環境を作成する.  \n",
    "「Anaconda Prompt」で`conda create --name=tensorflow python=3.5`を実行する.  \n",
    "実行すると名前がtensorflowのpython 3.5の環境が作成されていく.\n",
    "<img src=\"anacodaresult.PNG\">\n",
    "yを押すると,環境構築が完了する.\n",
    "1. tensorflow環境をactivateする.  \n",
    "「Anaconda Prompt」で`activate tensorflow`を実行する.\n"
   ]
  },
  {
   "cell_type": "markdown",
   "metadata": {},
   "source": [
    "### Tensorflowのインストール\n",
    "TensorflowはGPU用とCPUの二つがあるが、今回はCPUを選択する.\n",
    "以下を実施する.versionは1.1.0にした.\n",
    "```python\n",
    "pip install --ignore-installed --upgrade https://storage.googleapis.com/tensorflow/windows/cpu/tensorflow-1.1.0-cp35-cp35m-win_amd64.whl\n",
    "```\n",
    "<img src=\"tensorflowinstallresult.PNG\">"
   ]
  },
  {
   "cell_type": "markdown",
   "metadata": {},
   "source": [
    "### インストール確認\n",
    "\n",
    "1. 「Anaconda Prompt」でpythonを入力.\n",
    "1. 以下を実行.\n",
    "```python\n",
    ">>> import tensorflow as tf\n",
    ">>> hello = tf.constant('Hello, TensorFlow!')\n",
    ">>> sess = tf.Session()\n",
    ">>> print(sess.run(hello))\n",
    "```\n",
    "\n",
    "ただし、 `The TensorFlow library wasn't compiled to use SSE instructions, but these are available on your machine and could speed up CPU computations.`という警告が発生する.内容はソースからコンパイルした方が性能があがるというもの.\n",
    "Windows環境はノートPCのみでも環境構築をしたい時等に利用予定のため,ソースからコンパイルするようなことしない.\n"
   ]
  },
  {
   "cell_type": "markdown",
   "metadata": {},
   "source": [
    "## Tensorflow(Tutorial)\n",
    "tensorflowのチュートリアルを実施する."
   ]
  },
  {
   "cell_type": "code",
   "execution_count": 1,
   "metadata": {
    "collapsed": false
   },
   "outputs": [
    {
     "ename": "SyntaxError",
     "evalue": "invalid syntax (<ipython-input-1-a5f5db8df614>, line 1)",
     "output_type": "error",
     "traceback": [
      "\u001b[0;36m  File \u001b[0;32m\"<ipython-input-1-a5f5db8df614>\"\u001b[0;36m, line \u001b[0;32m1\u001b[0m\n\u001b[0;31m    import tensorflow as tfhello = tf.constant('Hello, TensorFlow!')\u001b[0m\n\u001b[0m                                 ^\u001b[0m\n\u001b[0;31mSyntaxError\u001b[0m\u001b[0;31m:\u001b[0m invalid syntax\n"
     ]
    }
   ],
   "source": [
    "import tensorflow as tf\n",
    "hello = tf.constant('Hello, TensorFlow!')\n",
    "sess = tf.Session()\n",
    "print(sess.run(hello))"
   ]
  },
  {
   "cell_type": "code",
   "execution_count": null,
   "metadata": {
    "collapsed": true
   },
   "outputs": [],
   "source": []
  }
 ],
 "metadata": {
  "anaconda-cloud": {},
  "kernelspec": {
   "display_name": "Python [default]",
   "language": "python",
   "name": "python3"
  },
  "language_info": {
   "codemirror_mode": {
    "name": "ipython",
    "version": 3
   },
   "file_extension": ".py",
   "mimetype": "text/x-python",
   "name": "python",
   "nbconvert_exporter": "python",
   "pygments_lexer": "ipython3",
   "version": "3.5.2"
  }
 },
 "nbformat": 4,
 "nbformat_minor": 1
}
